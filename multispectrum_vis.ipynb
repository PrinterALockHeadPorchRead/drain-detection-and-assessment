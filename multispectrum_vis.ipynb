{
  "nbformat": 4,
  "nbformat_minor": 0,
  "metadata": {
    "colab": {
      "provenance": [],
      "authorship_tag": "ABX9TyM77HUHRE7c+D49kv6flIns"
    },
    "kernelspec": {
      "name": "python3",
      "display_name": "Python 3"
    },
    "language_info": {
      "name": "python"
    }
  },
  "cells": [
    {
      "cell_type": "code",
      "source": [
        "import tifffile as tiff\n",
        "import cv2\n",
        "import torch\n",
        "import numpy as np\n",
        "import albumentations as A\n",
        "from albumentations.pytorch import ToTensorV2\n",
        "import matplotlib.pyplot as plt\n",
        "import torch.nn as nn"
      ],
      "metadata": {
        "id": "q06pW55QvZnP"
      },
      "execution_count": null,
      "outputs": []
    },
    {
      "cell_type": "code",
      "execution_count": null,
      "metadata": {
        "id": "AfT2sRiMs9YO"
      },
      "outputs": [],
      "source": [
        "# загрузка 5 каналов изображения, RGB и маски\n",
        "img_B2 = tiff.imread('PATH_to_blue_channel_image')\n",
        "img_B3 = tiff.imread('PATH_to_green_channel_image')\n",
        "img_B4 = tiff.imread('PATH_to_red_channel_image')\n",
        "img_B8 = tiff.imread('PATH_to_NIR_channel_image')\n",
        "img_B12 = tiff.imread('PATH_to_SWIR_channel_image')\n",
        "img_real = tiff.imread('PATH_to_true_color_image')\n",
        "mask = cv2.imread('PATH_to_MASK')"
      ]
    },
    {
      "cell_type": "code",
      "source": [
        "# функция перевода маски в категориальный вид\n",
        "def image_cat(image, class_num, black_color = 128):\n",
        "  pic = np.array(image)\n",
        "  img = np.zeros((pic.shape[0], pic.shape[1], class_num))\n",
        "  np.place(img[ :, :, 0], pic[ :, :, 0] >= black_color, 1)\n",
        "  np.place(img[ :, :, 0], pic[ :, :, 2] >= black_color, 2)\n",
        "  return img"
      ],
      "metadata": {
        "id": "smdcCqS2uxBi"
      },
      "execution_count": null,
      "outputs": []
    },
    {
      "cell_type": "code",
      "source": [
        "# создание 5-канального изображения, предобработка и загрузка данных\n",
        "t = np.concatenate((img_B2[:, :, np.newaxis],\n",
        "                    img_B3[:, :, np.newaxis],\n",
        "                    img_B4[:, :, np.newaxis],\n",
        "                    img_B8[:, :, np.newaxis],\n",
        "                    img_B12[:, :, np.newaxis]), axis = 2)\n",
        "\n",
        "t1 = A.Compose([\n",
        "    A.Resize(256,256),\n",
        "    ToTensorV2()\n",
        "])\n",
        "\n",
        "aug = t1(image=t)\n",
        "t = np.array(aug['image'])\n",
        "t = np.rollaxis(t, 0, 3)[np.newaxis,:]\n",
        "mask = image_cat(mask, 1, black_color = 128)\n",
        "aug = t1(image=mask)\n",
        "mask = np.array(aug['image'])\n",
        "mask = np.rollaxis(mask, 0, 3)[np.newaxis,:]\n",
        "\n",
        "test_b = torch.utils.data.DataLoader(list(zip(np.rollaxis(t, 3, 1), mask)),\n",
        "                                         batch_size=1, shuffle=False, pin_memory=True)"
      ],
      "metadata": {
        "id": "b_UDE7RGtFZ1"
      },
      "execution_count": null,
      "outputs": []
    },
    {
      "cell_type": "code",
      "source": [
        "# загрузка модели\n",
        "DEVICE = \"cuda\" if torch.cuda.is_available() else \"cpu\"\n",
        "model = torch.jit.load('PATH_to_MODEL')\n",
        "model.eval()"
      ],
      "metadata": {
        "id": "1nY1R3l2vye4"
      },
      "execution_count": null,
      "outputs": []
    },
    {
      "cell_type": "code",
      "source": [
        "# визуализация результатов\n",
        "for x, y in test_b:\n",
        "  x = x.to(DEVICE)\n",
        "  fig , ax =  plt.subplots(1, 3, figsize=(12, 12))\n",
        "  softmax = nn.Softmax(dim=1)\n",
        "  preds = torch.argmax(softmax(model(x)),axis=1).to('cpu')\n",
        "  img1 = np.transpose(np.array(x[0,:,:,:].to('cpu')),(1,2,0))\n",
        "  [A1,A2,A3,A4,A5] = np.split(img1,[1,2,3,4], axis=2)\n",
        "  img1 = A1.squeeze(2) + A2.squeeze(2) + A3.squeeze(2) + A4.squeeze(2) + A5.squeeze(2)\n",
        "  preds1 = np.array(preds[0,:,:])\n",
        "  mask1 = np.array(y[0,:,:])\n",
        "  ax[0].set_title('Real image')\n",
        "  ax[1].set_title('5-channel visualization')\n",
        "  ax[2].set_title('Prediction')\n",
        "  ax[0].axis(\"off\")\n",
        "  ax[1].axis(\"off\")\n",
        "  ax[2].axis(\"off\")\n",
        "  ax[0].imshow(img_real)\n",
        "  ax[1].imshow(img1)\n",
        "  ax[2].imshow(preds1)\n",
        "  break"
      ],
      "metadata": {
        "id": "-rwjMdZlvTAV"
      },
      "execution_count": null,
      "outputs": []
    }
  ]
}