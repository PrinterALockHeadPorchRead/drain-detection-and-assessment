{
  "nbformat": 4,
  "nbformat_minor": 0,
  "metadata": {
    "colab": {
      "provenance": [],
      "authorship_tag": "ABX9TyN4juQMURTf36BV2IziFCej"
    },
    "kernelspec": {
      "name": "python3",
      "display_name": "Python 3"
    },
    "language_info": {
      "name": "python"
    }
  },
  "cells": [
    {
      "cell_type": "code",
      "source": [
        "import os\n",
        "import torch\n",
        "import numpy as np\n",
        "from torch.utils.data import DataLoader\n",
        "import torch.nn as nn\n",
        "from scipy.optimize import differential_evolution\n",
        "import matplotlib.pyplot as plt"
      ],
      "metadata": {
        "id": "Hb9Psdc32-n7"
      },
      "execution_count": null,
      "outputs": []
    },
    {
      "cell_type": "code",
      "execution_count": null,
      "metadata": {
        "id": "J_etWH4Qo2T6"
      },
      "outputs": [],
      "source": [
        "# загрузка предобученных моделей\n",
        "models_dir = os.listdir('PATH_to_FOLDER')\n",
        "members = []\n",
        "for i in range(len(models_dir)):\n",
        "  model = torch.jit.load('PATH_to_FOLDER/' + models_dir[i])\n",
        "  model.eval()\n",
        "  members.append(model)\n",
        "n_members = len(members)"
      ]
    },
    {
      "cell_type": "code",
      "source": [
        "device = torch.device('cuda' if torch.cuda.is_available() else 'cpu')"
      ],
      "metadata": {
        "id": "j0s8K5J53HiX"
      },
      "execution_count": null,
      "outputs": []
    },
    {
      "cell_type": "code",
      "source": [
        "# загрузка данных\n",
        "data_test = np.load('PATH_to_DATA_test')\n",
        "masks_test = np.load('PATH_to_MASKS_test')\n",
        "\n",
        "data = DataLoader(list(zip(data_test, masks_test)),\n",
        "                     batch_size=16, shuffle=False,\n",
        "                     pin_memory=True)\n",
        "\n",
        "# функция вычисления метрики IoU по результатам одной модели\n",
        "def check_accuracy(loader, model):\n",
        "    iou_score = 0\n",
        "    model.eval()\n",
        "    with torch.no_grad():\n",
        "        for x, y in loader:\n",
        "            x = x.to(device)\n",
        "            y = y.to(device)\n",
        "            softmax = nn.Softmax(dim=1)\n",
        "            preds = torch.argmax(softmax(model(x)),axis=1)\n",
        "            iou_score += (((preds & y).float().sum((1, 2)) + 1e-8) / ((preds | y).float().sum((1, 2)) + 1e-8)).mean().item()\n",
        "    model.train()\n",
        "    return iou_score/len(loader)\n",
        "\n",
        "# функция вычисления выхода модели для одного изображения\n",
        "def predictions(model, x):\n",
        "    softmax = nn.Softmax(dim=1)\n",
        "    preds = softmax(model(x)).to('cpu').detach().numpy()\n",
        "    preds = np.array(preds)\n",
        "    preds = np.rollaxis(preds, 1, 4)\n",
        "    return preds\n",
        "\n",
        "# функция расчета выхода ансамбля с весами моделей\n",
        "def ensemble_predictions(preds, weights):\n",
        "    summed = np.tensordot(preds, weights, axes=((0,0)))\n",
        "    result = np.argmax(summed, axis = 3)\n",
        "    return result\n",
        "\n",
        "# функция вычисления выходов модели для всего датасета\n",
        "def general_predictions(model, data):\n",
        "  preds = []\n",
        "  for x, y in data:\n",
        "    x = x.to(device)\n",
        "    preds.append(predictions(model, x))\n",
        "  preds = np.reshape(np.array(preds), (len(data)*16, 256, 256, 2))\n",
        "  return preds\n",
        "\n",
        "# функция вычисления метрики IoU для результатов ансамбля\n",
        "def evaluate_ensemble(preds, targets, weights):\n",
        "  iou_score = 0\n",
        "  preds = ensemble_predictions(preds, weights)\n",
        "  iou_score = (((preds & targets).sum((1, 2)) + 1e-8) / ((preds | targets).sum((1, 2)) + 1e-8)).mean()\n",
        "  return iou_score\n",
        "\n",
        "# функция нормализации весов\n",
        "def normalize(weights):\n",
        "  result = np.linalg.norm(weights, 1)\n",
        "  if result == 0.0:\n",
        "    return weights\n",
        "  return weights / result\n",
        "\n",
        "# минимизируемая функция\n",
        "def loss_function(weights, preds, targets):\n",
        "  normalized = normalize(weights)\n",
        "  return 1.0 - evaluate_ensemble(preds, targets, normalized)"
      ],
      "metadata": {
        "id": "NSwuRL-IqnuS"
      },
      "execution_count": null,
      "outputs": []
    },
    {
      "cell_type": "code",
      "source": [
        "# вычисление результатов отдельных моделей\n",
        "preds = [general_predictions(model, data) for model in members]\n",
        "targets = []\n",
        "for x, y in data:\n",
        "  targets.append(np.array(y))\n",
        "targets = np.reshape(np.array(targets), (len(data)*16, 256, 256))\n",
        "preds, targets = np.array(preds), np.array(targets)\n",
        "\n",
        "# расчет метрики IoU для отдельных моделей\n",
        "for i in range(n_members):\n",
        "  score = check_accuracy(data, members[i])\n",
        "  print('Model %d: %.3f' % (i+1, score))\n",
        "\n",
        "# расчет метрики IoU для усредненного ансамбля\n",
        "weights = [1.0/n_members for _ in range(n_members)]\n",
        "score = evaluate_ensemble(preds, targets, weights)\n",
        "print('Equal Weights Score: %.3f' % score)\n",
        "\n",
        "# расчет оптимальных весов для средневзвешенного ансамбля и расчет метрики IoU\n",
        "bound_w = [(0.0, 1.0) for _ in range(n_members)]\n",
        "search_arg = (preds, targets)\n",
        "result = differential_evolution(loss_function, bound_w, search_arg, maxiter = 1000, tol=1e-7)\n",
        "weights_opt = normalize(result['x'])\n",
        "print('Optimized Weights: %s' % weights)\n",
        "score = evaluate_ensemble(members, weights, data)\n",
        "print('Optimized Weight Score: %.3f' % score)"
      ],
      "metadata": {
        "id": "NV5y3Vi6sCik"
      },
      "execution_count": null,
      "outputs": []
    },
    {
      "cell_type": "code",
      "source": [
        "# визуализация результатов отдельных моделей и ансамблей на тестовых изображениях\n",
        "def rap(model, x):\n",
        "  preds = softmax(model(x)).to('cpu').detach().numpy()\n",
        "  preds = np.array(preds)\n",
        "  preds = np.rollaxis(preds, 1, 4)\n",
        "  return preds\n",
        "\n",
        "for x, y in data:\n",
        "  x = x.to(device)\n",
        "  fig , ax =  plt.subplots(3, 3, figsize=(8, 8))\n",
        "  softmax = nn.Softmax(dim=1)\n",
        "  predso = [torch.argmax(softmax(model(x)),axis=1).to('cpu') for model in members]\n",
        "  weights = [1.0/n_members for _ in range(n_members)]\n",
        "  preds = [rap(model, x) for model in members]\n",
        "  summed = np.tensordot(preds, weights, axes=((0,0)))\n",
        "  result = np.argmax(summed, axis = 3)\n",
        "  summed_opt = np.tensordot(preds, weights_opt, axes=((0,0)))\n",
        "  result_opt = np.argmax(summed_opt, axis = 3)\n",
        "  mask = np.array(y[1,:,:])\n",
        "  preds1 = np.array(predso[0][1,:,:])\n",
        "  preds2 = np.array(predso[1][1,:,:])\n",
        "  preds3 = np.array(predso[2][1,:,:])\n",
        "  preds4 = np.array(predso[3][1,:,:])\n",
        "  preds5 = np.array(predso[4][1,:,:])\n",
        "  preds6 = np.array(predso[5][1,:,:])\n",
        "  preds_ensemble = np.array(result[1,:,:])\n",
        "  preds_w_ensemble = np.array(result_opt[1,:,:])\n",
        "\n",
        "  ax[0,0].set_title('Mask')\n",
        "  ax[0,1].set_title('Weighted Average Ensemble')\n",
        "  ax[0,2].set_title('Pred_SegNet')\n",
        "  ax[1,0].set_title('Pred_UNet')\n",
        "  ax[1,1].set_title('Pred_DDRNet')\n",
        "  ax[1,2].set_title('Average Ensemble')\n",
        "  ax[2,0].set_title('Pred_resnet')\n",
        "  ax[2,1].set_title('Pres_FCN8s')\n",
        "  ax[2,2].set_title('Pred_DeepLabV3+')\n",
        "  ax[0][0].axis(\"off\")\n",
        "  ax[1][0].axis(\"off\")\n",
        "  ax[0][1].axis(\"off\")\n",
        "  ax[1][1].axis(\"off\")\n",
        "  ax[0][2].axis(\"off\")\n",
        "  ax[1][2].axis(\"off\")\n",
        "  ax[2][0].axis(\"off\")\n",
        "  ax[2][1].axis(\"off\")\n",
        "  ax[2][2].axis(\"off\")\n",
        "  ax[0][0].imshow(mask)\n",
        "  ax[0][1].imshow(preds_w_ensemble)\n",
        "  ax[0][2].imshow(preds2)\n",
        "  ax[1][0].imshow(preds1)\n",
        "  ax[1][1].imshow(preds4)\n",
        "  ax[1][2].imshow(preds_ensemble)\n",
        "  ax[2][0].imshow(preds6)\n",
        "  ax[2][1].imshow(preds5)\n",
        "  ax[2][2].imshow(preds3)"
      ],
      "metadata": {
        "id": "pZiEKpA4tTOX"
      },
      "execution_count": null,
      "outputs": []
    }
  ]
}