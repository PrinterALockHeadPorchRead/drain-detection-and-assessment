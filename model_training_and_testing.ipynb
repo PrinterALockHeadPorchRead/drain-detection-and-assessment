{
  "nbformat": 4,
  "nbformat_minor": 0,
  "metadata": {
    "colab": {
      "provenance": [],
      "authorship_tag": "ABX9TyM71RcZS7mgDebonagcF7HB"
    },
    "kernelspec": {
      "name": "python3",
      "display_name": "Python 3"
    },
    "language_info": {
      "name": "python"
    }
  },
  "cells": [
    {
      "cell_type": "code",
      "source": [
        "import numpy as np\n",
        "from torchsummary import summary\n",
        "from torch.utils.data import DataLoader\n",
        "import torch\n",
        "import torch.nn as nn\n",
        "from torch.optim import Adam\n",
        "from tqdm import tqdm\n",
        "import matplotlib.pyplot as plt"
      ],
      "metadata": {
        "id": "oL-L3B5Nnpob"
      },
      "execution_count": null,
      "outputs": []
    },
    {
      "cell_type": "code",
      "source": [
        "# загрузка данных после предобработки\n",
        "data = np.load('PATH_to_DATA')\n",
        "masks = np.load('PATH_to_MASKS')"
      ],
      "metadata": {
        "id": "xH6VrYtFlUrS"
      },
      "execution_count": null,
      "outputs": []
    },
    {
      "cell_type": "code",
      "execution_count": null,
      "metadata": {
        "id": "eKbsmCZKkVvt"
      },
      "outputs": [],
      "source": [
        "# разделение данных на тренировочную, валидационную и тестовую выборки\n",
        "ix = np.random.choice(len(data), len(data), False)\n",
        "tr, val, ts = np.split(ix, ['boundary samples'])\n",
        "print(len(tr), len(val), len(ts))"
      ]
    },
    {
      "cell_type": "code",
      "source": [
        "# загрузка датасетов\n",
        "batch_size = 16\n",
        "\n",
        "data_train = DataLoader(list(zip(data[tr], masks[tr])),\n",
        "                     batch_size=batch_size,\n",
        "                     shuffle=True,\n",
        "                     pin_memory=True)\n",
        "data_val = DataLoader(list(zip(data[val], masks[val])),\n",
        "                      batch_size=batch_size, shuffle=False,\n",
        "                      pin_memory=True)\n",
        "data_test = DataLoader(list(zip(data[ts], masks[ts])),\n",
        "                     batch_size=batch_size, shuffle=False,\n",
        "                     pin_memory=True)"
      ],
      "metadata": {
        "id": "5RVCvglcl1ps"
      },
      "execution_count": null,
      "outputs": []
    },
    {
      "cell_type": "code",
      "source": [
        "train_on_gpu = torch.cuda.is_available()\n",
        "if not train_on_gpu:\n",
        "    print('CUDA is not available.  Training on CPU ...')\n",
        "else:\n",
        "    print('CUDA is available!  Training on GPU ...')\n",
        "device = torch.device('cuda' if torch.cuda.is_available() else 'cpu')"
      ],
      "metadata": {
        "id": "NTKjztcKmFB-"
      },
      "execution_count": null,
      "outputs": []
    },
    {
      "cell_type": "code",
      "source": [
        "# инициализация модели\n",
        "model = MODEL()\n",
        "print(summary(model.to(device), (3, 256, 256)))"
      ],
      "metadata": {
        "id": "UYJDSkW7mLdX"
      },
      "execution_count": null,
      "outputs": []
    },
    {
      "cell_type": "code",
      "source": [
        "# установка парметров обучения\n",
        "LEARNING_RATE = 1e-4\n",
        "num_epochs = 50\n",
        "loss_fn = nn.CrossEntropyLoss()\n",
        "optimizer = Adam(model.parameters(), lr=LEARNING_RATE)\n",
        "scaler = torch.cuda.amp.GradScaler()"
      ],
      "metadata": {
        "id": "bQEd0Oh2mUtw"
      },
      "execution_count": null,
      "outputs": []
    },
    {
      "cell_type": "code",
      "source": [
        "# обучение модели\n",
        "history = {\"epochs\": np.arange(num_epochs)+1, \"score\": [], \"loss\": []}\n",
        "for epoch in range(num_epochs):\n",
        "    dice_score = 0\n",
        "    iou_score = 0\n",
        "    loop = tqdm(enumerate(data_train),total=len(data_train))\n",
        "    for batch_idx, (data, targets) in loop:\n",
        "        data = data.to(device)\n",
        "        targets = targets.to(device)\n",
        "        targets = targets.type(torch.long)\n",
        "        with torch.cuda.amp.autocast():\n",
        "            predictions = model(data)\n",
        "            loss = loss_fn(predictions, targets)\n",
        "            softmax = nn.Softmax(dim=1)\n",
        "            preds = torch.argmax(softmax(model(data)),axis=1)\n",
        "            dice_score += (2 * (preds * targets).sum()) / ((preds + targets).sum() + 1e-8)\n",
        "            iou_score += (((preds & targets).float().sum((1, 2)) + 1e-8) / ((preds | targets).float().sum((1, 2)) + 1e-8)).mean().item()\n",
        "\n",
        "        optimizer.zero_grad()\n",
        "        scaler.scale(loss).backward()\n",
        "        scaler.step(optimizer)\n",
        "        scaler.update()\n",
        "\n",
        "        loop.set_postfix(loss=loss.item())\n",
        "    avg_loss = 1 - (dice_score / len(loop))\n",
        "    avg_score = iou_score/ len(loop)\n",
        "    print('loss: %f' % avg_loss)\n",
        "    print('score: %f' % avg_score)\n",
        "    print('epoch: %f'% epoch)\n",
        "    history[\"score\"].append(avg_score)\n",
        "    history[\"loss\"].append(avg_loss)"
      ],
      "metadata": {
        "id": "OBb-0jnsmWiZ"
      },
      "execution_count": null,
      "outputs": []
    },
    {
      "cell_type": "code",
      "source": [
        "# сохранение модели\n",
        "model_scripted = torch.jit.script(model)\n",
        "model_scripted.save('PATH_to_MODEL')"
      ],
      "metadata": {
        "id": "JOAQikO8mePh"
      },
      "execution_count": null,
      "outputs": []
    },
    {
      "cell_type": "code",
      "source": [
        "# вычисление метрик на выборках\n",
        "def check_accuracy(loader, model):\n",
        "    num_correct = 0\n",
        "    num_pixels = 0\n",
        "    dice_score = 0\n",
        "    iou_score = 0\n",
        "    model.eval()\n",
        "\n",
        "    with torch.no_grad():\n",
        "        for x, y in loader:\n",
        "            x = x.to(device)\n",
        "            y = y.to(device)\n",
        "            softmax = nn.Softmax(dim=1)\n",
        "            preds = torch.argmax(softmax(model(x)),axis=1)\n",
        "            num_correct += (preds == y).sum()\n",
        "            num_pixels += torch.numel(preds)\n",
        "            dice_score += (2 * (preds * y).sum()) / ((preds + y).sum() + 1e-8)\n",
        "            iou_score += (((preds & y).float().sum((1, 2)) + 1e-8) / ((preds | y).float().sum((1, 2)) + 1e-8)).mean().item()\n",
        "\n",
        "    print(f\"Got {num_correct}/{num_pixels} with acc {num_correct/num_pixels*100:.2f}\")\n",
        "    print(f\"Dice score: {dice_score/len(loader)}\")\n",
        "    print(f\"IoU score: {iou_score/len(loader)}\")\n",
        "    model.train()\n",
        "\n",
        "print(check_accuracy(data_train, model))\n",
        "print(check_accuracy(data_val, model))\n",
        "print(check_accuracy(data_test, model))"
      ],
      "metadata": {
        "id": "Ypq-Dm-ym3KE"
      },
      "execution_count": null,
      "outputs": []
    },
    {
      "cell_type": "code",
      "source": [
        "# построение графиков обучения\n",
        "def make_graph(history, model_name, loss_name):\n",
        "    fig, ax = plt.subplots(1, 2, figsize = (14, 7))\n",
        "    x = history[\"epochs\"]\n",
        "    loss_train = history[\"loss\"]\n",
        "    score_train = history[\"score\"]\n",
        "    ax[0].plot(x, loss_train, label = \"train\", color = \"red\")\n",
        "    ax[0].legend(fontsize = 14)\n",
        "    ax[0].grid(linestyle = \"--\")\n",
        "    ax[0].tick_params(labelsize = 14)\n",
        "    ax[0].set_xlabel(\"epoch\", fontsize = 14)\n",
        "    ax[0].set_ylabel(\"loss\", fontsize = 14)\n",
        "    ax[0].set_title(\"Loss vs epoch\", fontsize = 16)\n",
        "    ax[0].set_xlim(left = 0, right = x.max())\n",
        "    ax[0].set_ylim(bottom = 0)\n",
        "    ax[1].plot(x, score_train, label = \"train\", color = \"blue\")\n",
        "    ax[1].legend(fontsize = 14)\n",
        "    ax[1].grid(linestyle = \"--\")\n",
        "    ax[1].tick_params(labelsize = 14)\n",
        "    ax[1].set_xlabel(\"epoch\", fontsize = 14)\n",
        "    ax[1].set_ylabel(\"score\", fontsize = 14)\n",
        "    ax[1].set_title(\"Score vs epoch\", fontsize = 16)\n",
        "    ax[1].set_xlim(left = 0, right = x.max())\n",
        "    ax[1].set_ylim(bottom = 0)\n",
        "    plt.suptitle(f\"Model = {model_name}, loss = {loss_name}\", fontsize = 18, y=1.05)\n",
        "    plt.tight_layout()\n",
        "    plt.show()\n",
        "\n",
        "for i in range(len(history['loss'])):\n",
        "  history['loss'][i] = history['loss'][i].item()\n",
        "make_graph(history, \"MODEL_NAME\", \"LOSS_NAME\")"
      ],
      "metadata": {
        "id": "beuQcPYknJAG"
      },
      "execution_count": null,
      "outputs": []
    },
    {
      "cell_type": "code",
      "source": [
        "# визуализация результатов на тестовых изображениях\n",
        "for x,y in data_val:\n",
        "    x = x.to(device)\n",
        "    fig , ax =  plt.subplots(3, 3, figsize=(14, 14))\n",
        "    softmax = nn.Softmax(dim=1)\n",
        "    preds = torch.argmax(softmax(model(x)),axis=1).to('cpu')\n",
        "    img1 = np.transpose(np.array(x[0,:,:,:].to('cpu')),(1,2,0))\n",
        "    preds1 = np.array(preds[0,:,:])\n",
        "    mask1 = np.array(y[0,:,:])\n",
        "    img2 = np.transpose(np.array(x[1,:,:,:].to('cpu')),(1,2,0))\n",
        "    preds2 = np.array(preds[1,:,:])\n",
        "    mask2 = np.array(y[1,:,:])\n",
        "    img3 = np.transpose(np.array(x[2,:,:,:].to('cpu')),(1,2,0))\n",
        "    preds3 = np.array(preds[2,:,:])\n",
        "    mask3 = np.array(y[2,:,:])\n",
        "    ax[0,0].set_title('Image')\n",
        "    ax[0,1].set_title('Prediction')\n",
        "    ax[0,2].set_title('Mask')\n",
        "    ax[1,0].set_title('Image')\n",
        "    ax[1,1].set_title('Prediction')\n",
        "    ax[1,2].set_title('Mask')\n",
        "    ax[2,0].set_title('Image')\n",
        "    ax[2,1].set_title('Prediction')\n",
        "    ax[2,2].set_title('Mask')\n",
        "    ax[0][0].axis(\"off\")\n",
        "    ax[1][0].axis(\"off\")\n",
        "    ax[2][0].axis(\"off\")\n",
        "    ax[0][1].axis(\"off\")\n",
        "    ax[1][1].axis(\"off\")\n",
        "    ax[2][1].axis(\"off\")\n",
        "    ax[0][2].axis(\"off\")\n",
        "    ax[1][2].axis(\"off\")\n",
        "    ax[2][2].axis(\"off\")\n",
        "    ax[0][0].imshow(img1)\n",
        "    ax[0][1].imshow(preds1)\n",
        "    ax[0][2].imshow(mask1)\n",
        "    ax[1][0].imshow(img2)\n",
        "    ax[1][1].imshow(preds2)\n",
        "    ax[1][2].imshow(mask2)\n",
        "    ax[2][0].imshow(img3)\n",
        "    ax[2][1].imshow(preds3)\n",
        "    ax[2][2].imshow(mask3)\n",
        "    break"
      ],
      "metadata": {
        "id": "XFewiDqgpDsU"
      },
      "execution_count": null,
      "outputs": []
    }
  ]
}