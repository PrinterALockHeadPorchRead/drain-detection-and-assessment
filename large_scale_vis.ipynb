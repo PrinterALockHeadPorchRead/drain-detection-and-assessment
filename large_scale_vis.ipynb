{
  "nbformat": 4,
  "nbformat_minor": 0,
  "metadata": {
    "colab": {
      "provenance": [],
      "mount_file_id": "1yInIVErtgK1T1bD-f03vElpq3mpA0zW8",
      "authorship_tag": "ABX9TyPB/M2IhgBqeF7m9L5Eib1W"
    },
    "kernelspec": {
      "name": "python3",
      "display_name": "Python 3"
    },
    "language_info": {
      "name": "python"
    }
  },
  "cells": [
    {
      "cell_type": "code",
      "execution_count": null,
      "metadata": {
        "id": "a5dc5Q-v1Vg4"
      },
      "outputs": [],
      "source": [
        "import numpy as np\n",
        "from torch.utils.data import DataLoader\n",
        "import torch\n",
        "import torch.nn as nn\n",
        "import cv2\n",
        "import matplotlib.pyplot as plt"
      ]
    },
    {
      "cell_type": "code",
      "source": [
        "# загрузка фрагментов крупномасштабного изображения\n",
        "datas = np.load('PATH_to_imgs')\n",
        "masks = np.load('PATH_to_masks')\n",
        "data = DataLoader(list(zip(datas, masks)),\n",
        "                     batch_size=8, shuffle=False,\n",
        "                     pin_memory=True)"
      ],
      "metadata": {
        "id": "OlFPzEAm1YC1"
      },
      "execution_count": null,
      "outputs": []
    },
    {
      "cell_type": "code",
      "source": [
        "# загрузка модели\n",
        "# в случае ансамбля потребуется загрузить все модели и расчитать веса (ensembles.ipynb)\n",
        "model = torch.jit.load('PATH_to_MODEL')\n",
        "model.eval()"
      ],
      "metadata": {
        "id": "yyN2tEFs1FpL"
      },
      "execution_count": null,
      "outputs": []
    },
    {
      "cell_type": "code",
      "source": [
        "# получение выходов модели\n",
        "device = torch.device('cuda' if torch.cuda.is_available() else 'cpu')\n",
        "preds = []\n",
        "for x, y in data:\n",
        "  x = x.to(device)\n",
        "  softmax = nn.Softmax(dim=1)\n",
        "  predso = torch.argmax(softmax(model(x)),axis=1).to('cpu')\n",
        "  for i in range(8):\n",
        "    preds.append(np.array(predso[i,:,:]))"
      ],
      "metadata": {
        "id": "-xDW7Ejwyt_Y"
      },
      "execution_count": null,
      "outputs": []
    },
    {
      "cell_type": "code",
      "source": [
        "# функция перевода выходов в 3-канальное изображение\n",
        "def three(image, class_num, black_color = 0.5):\n",
        "  pic = np.array(image)\n",
        "  pic = pic[:, :, np.newaxis]\n",
        "  img = np.zeros((pic.shape[0], pic.shape[1], class_num))\n",
        "  np.place(img[ :, :, 0], pic[ :, :, 0] >= black_color, 255)\n",
        "  np.place(img[ :, :, 1], pic[ :, :, 0] >= black_color, 255)\n",
        "  np.place(img[ :, :, 2], pic[ :, :, 0] >= black_color, 255)\n",
        "  img = np.array(img, dtype=np.uint8)\n",
        "  return img"
      ],
      "metadata": {
        "id": "ll8hqb2izElt"
      },
      "execution_count": null,
      "outputs": []
    },
    {
      "cell_type": "code",
      "source": [
        "# загрузка крупномасштабного изображения и маски\n",
        "img = cv2.imread('/content/разметка_меньково_2012.jpg')\n",
        "mask = cv2.imread('/content/разметка_меньково_2012.jpg')\n",
        "height, width, channels = img.shape"
      ],
      "metadata": {
        "id": "1EhFrkJjzwdD"
      },
      "execution_count": null,
      "outputs": []
    },
    {
      "cell_type": "code",
      "source": [
        "# объединение preds в выходную крупномасштабную карту\n",
        "stripes = []\n",
        "for k in range(height // 256):\n",
        "  lane = np.zeros((256, 256, 3), dtype=np.uint8)\n",
        "  for i in range((width // 256)*k, (width // 256)*k+(width // 256)):\n",
        "    lane = cv2.hconcat([lane, three(preds[i], 3)])\n",
        "  lane = lane[0:256, 256:(width+256)]\n",
        "  stripes.append(lane)\n",
        "combined_image = np.zeros((256, width, 3), dtype=np.uint8)\n",
        "for j in range(len(stripes)):\n",
        "  combined_image = cv2.vconcat([combined_image, stripes[j]])\n",
        "combined_image = combined_image[256:(height+256), 0:width]"
      ],
      "metadata": {
        "id": "Gea9qtYpzI8v"
      },
      "execution_count": null,
      "outputs": []
    },
    {
      "cell_type": "code",
      "source": [
        "# визуализация крупномасштабного изображения\n",
        "plt.imshow(img)"
      ],
      "metadata": {
        "id": "LCXLeW3Xzb1L"
      },
      "execution_count": null,
      "outputs": []
    },
    {
      "cell_type": "code",
      "source": [
        "# визуализация крупномасштабной маски\n",
        "plt.imshow(mask)"
      ],
      "metadata": {
        "id": "uEYa12zlzOWq"
      },
      "execution_count": null,
      "outputs": []
    },
    {
      "cell_type": "code",
      "source": [
        "# визуализация выхода модели(ансамбля)\n",
        "plt.imshow(combined_image)"
      ],
      "metadata": {
        "id": "kJDro5I4zWXb"
      },
      "execution_count": null,
      "outputs": []
    }
  ]
}